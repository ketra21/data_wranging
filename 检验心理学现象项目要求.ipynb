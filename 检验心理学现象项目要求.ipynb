{
 "cells": [
  {
   "cell_type": "markdown",
   "metadata": {},
   "source": [
    "https://review.udacity.com/#!/rubrics/305/view"
   ]
  },
  {
   "cell_type": "markdown",
   "metadata": {},
   "source": [
    "回答所有问题\n",
    "\n",
    "CRITERIA\n",
    "MEETS SPECIFICATIONS\n",
    "问题 1：确认试验中的变量\n",
    "\n",
    "Q1：问题回复正确确认了试验中的自变量和因变量。\n",
    "\n",
    "问题 2a：建立假设\n",
    "\n",
    "Q2a：零假设和对立假设均以文字和数学方式进行了明确说明。数学陈述中的符号也进行了定义。\n",
    "\n",
    "问题 2b：建立统计检验\n",
    "\n",
    "Q2b：通过统计检验来辩证提出的假设，并针对统计检验的假设前提进行说明\n",
    "\n",
    "问题 3：报告描述性统计分析\n",
    "\n",
    "Q3：为数据集组计算了描述性统计分析，包括至少一项中心性测量和一项可变性测量。\n",
    "\n",
    "问题 4：绘制数据图\n",
    "\n",
    "Q4：创建了展示数据的一项或两项可视化，包括用注释说明图中可观察到的信息。\n",
    "\n",
    "问题 5：执行统计检验并解读结果\n",
    "\n",
    "Q5：正确执行并报告了一项统计检验，包括检验统计量、P 值和检验结果。检验结果针对执行的试验任务进行了解释。\n",
    "\n",
    "问题 6：更深入探索和扩展调查\n",
    "问题 6 为可选项，不作为达到项目规范的必答问题。\n",
    "\n",
    "Q6：对所观察效应的原因做了假设。提供了 所执行的 Stroop 任务的扩展或相关试验，这可能会得到类似的效应。"
   ]
  }
 ],
 "metadata": {
  "kernelspec": {
   "display_name": "Python 3",
   "language": "python",
   "name": "python3"
  },
  "language_info": {
   "codemirror_mode": {
    "name": "ipython",
    "version": 3
   },
   "file_extension": ".py",
   "mimetype": "text/x-python",
   "name": "python",
   "nbconvert_exporter": "python",
   "pygments_lexer": "ipython3",
   "version": "3.6.6"
  }
 },
 "nbformat": 4,
 "nbformat_minor": 2
}
